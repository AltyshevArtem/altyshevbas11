{
 "cells": [
  {
   "cell_type": "code",
   "execution_count": null,
   "metadata": {
    "scrolled": true
   },
   "outputs": [],
   "source": [
    "import re \n",
    "import sqlite3\n",
    "\n",
    "\"\"\" \n",
    "Функция для единоразового создания таблицы\n",
    "\n",
    "\"\"\"\n",
    "def create_table():\n",
    "    conn = sqlite3.connect(\"laborat6.db\")\n",
    "    c.execute(\"\"\"CREATE TABLE article\n",
    "                (Author, Title, Journal, Year)\n",
    "          \"\"\")\n",
    "\"\"\" \n",
    "Функция для заполнения созданной таблицы полученными данными\n",
    "\n",
    "\"\"\"\n",
    "def insrt705(conn, Author,Journal,Title,Year):\n",
    "    c = conn.cursor()\n",
    "    purchases = [(Author, Journal, Title, Year),]\n",
    "    c.executemany(\"INSERT INTO Article VALUES (?,?,?,?)\",purchases)\n",
    "    conn.commit()\n",
    "\"\"\" \n",
    "\n",
    "Функция для преобразования bib-файла с данными научных публицаций к формату ГОСТ 7.0.5 при помощи регулярных выражений.\n",
    "\n",
    "\"\"\"\n",
    "def gost705(art, conn):\n",
    "    ls =['Author','Journal','Title','Year']\n",
    "    art_tmp = {}\n",
    "    for x in ls:\n",
    "        if x in art:\n",
    "            art_tmp[x]= art.get(x)\n",
    "        else:\n",
    "            art_tmp[x] = ''\n",
    "    art_tmp['Author'] = art_tmp['Author'].replace(' and ',', ')\n",
    "    insrt705(conn,**art_tmp)\n",
    "\"\"\" \n",
    "Функция для вывода данных статей по запрашиваемой фамилии автора\n",
    "\n",
    "\"\"\"\n",
    "def print_table(Surname, conn):
    c = conn.cursor()
    user = ["%"+Surname+"%",]
    c.execute("SELECT * FROM article Where Author Like ?", user)
    print(c.fetchall())
    "\n",
    "openf = open(r'C:\\Users\\Artem Altyshev\\Desktop\\biblio1.bib', mode='r', encoding = 'utf-8') \n",
    "data = openf.read()\n",
    "\n",
    "reg1 = re.compile(r'\\@(?P<type>\\w+){(?P<lable>.+?),(?P<body>.+?)}\\s*}', re.DOTALL)\n",
    "reg2 = re.compile(r'(\\w+)\\s*=\\s*{(.+?)}', re.DOTALL)\n",
    "iterat = re.finditer(reg1,data)\n",
    "art_list=[]\n",
    "for i in ite:\n",
    "    st = i.group('body') + '}'\n",
    "    body = reg2.findall(st)\n",
    "    art = {\n",
    "           'type':i.group('type'),\n",
    "           'lable':i.group('lable')}\n",
    "    for it in body:\n",
    "        art[it[0]] = it[1]\n",
    "    art_list.append(art)\n",
    "    \n",
    "conn = sqlite3.connect('laba6.db') \n",
    "c = conn.cursor()\n",
    "#create_table() - создаем таблицу\n",
    "for art in art_list:\n",
    "    gost705(art, conn)\n",
    "c.execute('SELECT * FROM Article')\n",
    "conn.commit()\n",
    "print (c.fetchall()) #вывод таблицы статей\n",
    "print('Введите фамилию автора:')\n",
    "author=(input())\n",
    "print_table(author, conn)"
   ]
  }
 ],
 "metadata": {
  "kernelspec": {
   "display_name": "Python 3",
   "language": "python",
   "name": "python3"
  },
  "language_info": {
   "codemirror_mode": {
    "name": "ipython",
    "version": 3
   },
   "file_extension": ".py",
   "mimetype": "text/x-python",
   "name": "python",
   "nbconvert_exporter": "python",
   "pygments_lexer": "ipython3",
   "version": "3.8.1"
  }
 },
 "nbformat": 4,
 "nbformat_minor": 4
}
