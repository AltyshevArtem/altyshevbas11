{
 "cells": [
  {
   "cell_type": "code",
   "execution_count": null,
   "metadata": {},
   "outputs": [],
   "source": [
    "import cv2 as cv\n",
    "import time\n",
    "def photo(a):\n",
    "    cap = cv.VideoCapture(0)\n",
    "    cap.read()\n",
    "    ret, frame = cap.read()\n",
    "    cv.imwrite(r'C:\\Users\\Artem Altyshev\\Desktop\\ОИС_Лаб3\\test.png', frame)\n",
    "    time.sleep(2)       # ожидание включения камеры\n",
    "    cap.release()\n",
    "    return()\n",
    "def video(b):\n",
    "    cap = cv.VideoCapture(0)\n",
    "    video = cv.VideoWriter(r'C:\\Users\\Artem Altyshev\\Desktop\\ОИС_Лаб3\\test.mp4', -1, 20.0, (640, 480))\n",
    "    while cap.isOpened():\n",
    "        ret, frame = cap.read()\n",
    "        video.write(frame)\n",
    "        cv.imshow(r'C:\\Users\\Artem Altyshev\\Desktop\\ОИС_Лаб3\\test.mp4', frame)\n",
    "        if cv.waitKey(10) == 27:  # завершение записи по нажатию клавиши esc\n",
    "            break\n",
    "    video.release()\n",
    "    return()\n",
    "\n",
    "while True:\n",
    "    print('Фото или видео?')\n",
    "    name = str(input())\n",
    "    if name == 'Фото':\n",
    "        photo(a)\n",
    "    elif name == 'Видео':\n",
    "        video(b)"
   ]
  }
 ],
 "metadata": {
  "kernelspec": {
   "display_name": "Python 3",
   "language": "python",
   "name": "python3"
  },
  "language_info": {
   "codemirror_mode": {
    "name": "ipython",
    "version": 3
   },
   "file_extension": ".py",
   "mimetype": "text/x-python",
   "name": "python",
   "nbconvert_exporter": "python",
   "pygments_lexer": "ipython3",
   "version": "3.8.1"
  }
 },
 "nbformat": 4,
 "nbformat_minor": 4
}
