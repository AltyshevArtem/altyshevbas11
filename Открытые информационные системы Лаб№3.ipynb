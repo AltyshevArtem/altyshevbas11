{
 "cells": [
  {
   "cell_type": "code",
   "execution_count": null,
   "metadata": {},
   "outputs": [
    {
     "name": "stdout",
     "output_type": "stream",
     "text": [
      "Фото или Видео?\n",
      "Фото\n",
      "Фото или Видео?\n",
      "Видео\n",
      "Фото или Видео?\n"
     ]
    }
   ],
   "source": [
    "import cv2 as cv\n",
    "import time\n",
    "\"\"\"\n",
    "Функция для получения изображения\n",
    "\n",
    "\"\"\"\n",
    "def photo(par):\n",
    "    cap = cv.VideoCapture(0)\n",
    "    cap.read()\n",
    "    ret, frame = cap.read()\n",
    "    cv.imwrite(par, frame)\n",
    "    time.sleep(2)\n",
    "    cap.release()\n",
    "    return() \n",
    "\"\"\"\n",
    "Функция для получения видеоизображения\n",
    "\n",
    "\"\"\"\n",
    "def video(par):\n",
    "    cap = cv.VideoCapture(0)\n",
    "    video = cv.VideoWriter(par, -1, 20.0, (640, 480))\n",
    "    while cap.isOpened():\n",
    "        ret, frame = cap.read()\n",
    "        video.write(frame)\n",
    "        cv.imshow(par, frame)\n",
    "        if cv.waitKey(10) == 27:\n",
    "            break\n",
    "    video.release()\n",
    "    return()\n",
    "\n",
    "while True:\n",
    "    print('Фото или Видео?')\n",
    "    name = str(input())\n",
    "    if name == 'Фото':\n",
    "        photo(r'C:\\Users\\Artem Altyshev\\Desktop\\t.png')\n",
    "    elif name == 'Видео':\n",
    "        video(r'C:\\Users\\Artem Altyshev\\Desktop\\t.mp4')"
   ]
  }
 ],
 "metadata": {
  "kernelspec": {
   "display_name": "Python 3",
   "language": "python",
   "name": "python3"
  },
  "language_info": {
   "codemirror_mode": {
    "name": "ipython",
    "version": 3
   },
   "file_extension": ".py",
   "mimetype": "text/x-python",
   "name": "python",
   "nbconvert_exporter": "python",
   "pygments_lexer": "ipython3",
   "version": "3.8.1"
  }
 },
 "nbformat": 4,
 "nbformat_minor": 4
}
